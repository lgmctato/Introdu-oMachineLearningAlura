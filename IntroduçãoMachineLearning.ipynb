{
  "nbformat": 4,
  "nbformat_minor": 0,
  "metadata": {
    "colab": {
      "name": "IntroduçãoMachineLearning",
      "provenance": [],
      "collapsed_sections": [],
      "authorship_tag": "ABX9TyPMDYHaGQck+SmqDM8Fh2J7",
      "include_colab_link": true
    },
    "kernelspec": {
      "name": "python3",
      "display_name": "Python 3"
    },
    "language_info": {
      "name": "python"
    }
  },
  "cells": [
    {
      "cell_type": "markdown",
      "metadata": {
        "id": "view-in-github",
        "colab_type": "text"
      },
      "source": [
        "<a href=\"https://colab.research.google.com/github/lgmctato/Introdu-oMachineLearningAlura/blob/main/Introdu%C3%A7%C3%A3oMachineLearning.ipynb\" target=\"_parent\"><img src=\"https://colab.research.google.com/assets/colab-badge.svg\" alt=\"Open In Colab\"/></a>"
      ]
    },
    {
      "cell_type": "code",
      "execution_count": null,
      "metadata": {
        "colab": {
          "base_uri": "https://localhost:8080/"
        },
        "id": "jk28x9QvExcZ",
        "outputId": "c876d29c-89d6-4c28-e2e1-7762273edb37"
      },
      "outputs": [
        {
          "output_type": "stream",
          "name": "stdout",
          "text": [
            "[0 1 0]\n"
          ]
        },
        {
          "output_type": "execute_result",
          "data": {
            "text/plain": [
              "0.6666666666666666"
            ]
          },
          "metadata": {},
          "execution_count": 9
        }
      ],
      "source": [
        "from sklearn.svm import LinearSVC\n",
        "from sklearn.metrics import accuracy_score\n",
        "\n",
        "# Características para TREINAR a maquina a identificar cachorros\n",
        "# Pelo Longo\n",
        "# Perna Curta\n",
        "# Faz auau ?\n",
        "\n",
        "porco1 = [0, 1, 0]\n",
        "porco2 = [0, 1, 1]\n",
        "porco3 = [1, 1, 0]\n",
        "\n",
        "cachorro1 = [0, 1, 1]\n",
        "cachorro2 = [1, 0, 1]\n",
        "cachorro3 = [1, 1, 1]\n",
        "\n",
        "treino_x = [porco1, porco2, porco3, cachorro1, cachorro2, cachorro3]\n",
        "treino_y = [1, 1, 1, 0, 0, 0] #resultados já conhecidos para treinar a maquina 0 = cachorro e 1 = porco\n",
        "\n",
        "#Treina o modelo\n",
        "modelo = LinearSVC()\n",
        "modelo.fit(treino_x, treino_y)\n",
        "\n",
        "#Características para TESTAR o modelo\n",
        "misterio1 = [1, 1, 1]\n",
        "misterio2 = [1, 1, 0]\n",
        "misterio3 = [0, 1, 1]\n",
        "teste_x= [misterio1, misterio2, misterio3]\n",
        "teste_y= [0, 1, 1] #resultados já conhecidos para comparar com o resultado: cachorro, porco, porco\n",
        "\n",
        "#Testa o modelo\n",
        "retorno = modelo.predict(teste_x)\n",
        "print(retorno) # acertou apenas 2. Retornou 0, 1,0 e o correto era 0, 1, 1\n",
        "\n",
        "#Mostra a acurácia do resultado\n",
        "accuracy_score(teste_y, retorno) #66%"
      ]
    },
    {
      "cell_type": "code",
      "source": [],
      "metadata": {
        "id": "YWIN3st3G_6v"
      },
      "execution_count": null,
      "outputs": []
    }
  ]
}